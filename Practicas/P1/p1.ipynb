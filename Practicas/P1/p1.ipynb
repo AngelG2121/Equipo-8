{
 "cells": [
  {
   "cell_type": "code",
   "execution_count": null,
   "id": "dd91a094-7c24-4823-bd87-8945f2cd44fa",
   "metadata": {},
   "outputs": [],
   "source": [
    "Hola burros "
   ]
  }
 ],
 "metadata": {
  "kernelspec": {
   "display_name": "Python 3 (ipykernel)",
   "language": "python",
   "name": "python3"
  },
  "language_info": {
   "codemirror_mode": {
    "name": "ipython",
    "version": 3
   },
   "file_extension": ".py",
   "mimetype": "text/x-python",
   "name": "python",
   "nbconvert_exporter": "python",
   "pygments_lexer": "ipython3",
   "version": "3.10.12"
  }
 },
 "nbformat": 4,
 "nbformat_minor": 5
}
